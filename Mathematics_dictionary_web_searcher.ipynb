{
 "cells": [
  {
   "cell_type": "code",
   "execution_count": 1,
   "id": "b2805df5-523c-45f4-956a-78b94a3811cb",
   "metadata": {
    "tags": []
   },
   "outputs": [],
   "source": [
    "import pandas as pd\n",
    "from unidecode import unidecode\n",
    "import numpy as np\n",
    "import urllib.parse\n",
    "import webbrowser"
   ]
  },
  {
   "cell_type": "code",
   "execution_count": 36,
   "id": "46ce8218-f19c-40b0-8f0a-546fd04b948a",
   "metadata": {},
   "outputs": [],
   "source": [
    "import pandas as pd\n",
    "import webbrowser\n",
    "from unidecode import unidecode\n",
    "\n",
    "def remove_accents(input_str):\n",
    "    return unidecode(input_str)\n",
    "\n",
    "def search_and_display(csv_file, search_string):\n",
    "    try:\n",
    "        # Read data from the CSV file\n",
    "        df = pd.read_csv(csv_file)\n",
    "\n",
    "        # Prompt the user to select a search option\n",
    "        while True:\n",
    "            print(\"Select a search option:\")\n",
    "            print(\"1. Search in a specific language\")\n",
    "            print(\"2. Search across all languages\")\n",
    "\n",
    "            choice = input(\"Enter the number of your choice: \")\n",
    "\n",
    "            if choice == '1':\n",
    "                # Search in a specific language\n",
    "                languages = df.columns.tolist()\n",
    "                while True:\n",
    "                    print(\"Select a language:\")\n",
    "                    for i, lang in enumerate(languages, 1):\n",
    "                        print(f\"{i}. {lang}\")\n",
    "\n",
    "                    lang_choice = input(\"Enter the number of your choice: \")\n",
    "\n",
    "                    if not lang_choice.isdigit() or int(lang_choice) < 1 or int(lang_choice) > len(languages):\n",
    "                        print(\"Invalid choice. Please select a valid language.\")\n",
    "                    else:\n",
    "                        language = languages[int(lang_choice) - 1]\n",
    "                        break\n",
    "\n",
    "                # Remove accents from the search string\n",
    "                search_string = remove_accents(search_string)\n",
    "\n",
    "                # Remove accents from the data in the selected column\n",
    "                df[language] = df[language].apply(remove_accents)\n",
    "\n",
    "                # Perform the partial string match search\n",
    "                result = df[df[language].str.contains(search_string, case=False, na=False)]\n",
    "\n",
    "                if result.empty:\n",
    "                    print(\"No matching rows found.\")\n",
    "                else:\n",
    "                    print(\"Choose an option:\")\n",
    "                    options = result[language].tolist()\n",
    "                    for i, option in enumerate(options, 1):\n",
    "                        print(f\"{i}. {option}\")\n",
    "\n",
    "                    choice = input(\"Enter the number of your choice: \")\n",
    "\n",
    "                    if not choice.isdigit() or int(choice) < 1 or int(choice) > len(options):\n",
    "                        print(\"Invalid choice.\")\n",
    "                    else:\n",
    "                        choice = int(choice)\n",
    "                        chosen_option = result.iloc[choice - 1]\n",
    "                        print(\"\\nChosen Option:\")\n",
    "                        print(f\"{chosen_option[language]}\\n\")\n",
    "                        \n",
    "                        # Get the translations for the chosen word\n",
    "                        translations = {}\n",
    "\n",
    "                        for col in df.columns:\n",
    "                            if col != language:  # Exclude the selected language column\n",
    "                                # Remove accents from the data in the current language column\n",
    "                                df[col] = df[col].apply(remove_accents)\n",
    "                                \n",
    "                                # Check for an exact match of the chosen word in the current language column\n",
    "                                translation = df.loc[df[col] == chosen_option[language], col].values\n",
    "                                if len(translation) > 0:\n",
    "                                    translations[col] = translation[0]\n",
    "                        \n",
    "                        # Display the translations\n",
    "                        print(f\"Translations for '{chosen_option[language]}' in Other Languages:\")\n",
    "                        for lang, translation in translations.items():\n",
    "                            print(f\"{lang}: {translation}\")\n",
    "\n",
    "                        # Ask if the user wants to Google search the chosen word\n",
    "                        google_search_choice = input(\"Do you want to Google search this term? (yes/no): \").strip().lower()\n",
    "                        if google_search_choice == 'yes':\n",
    "                            google_search_url = f\"https://www.google.com/search?q={chosen_option[language]}\"\n",
    "\n",
    "            elif choice == '2':\n",
    "                # Search across all languages\n",
    "                search_string = remove_accents(search_string)\n",
    "                matching_words = []\n",
    "                matching_languages = {}\n",
    "                \n",
    "                for col in df.columns:\n",
    "                    col_matches = df[col][df[col].str.contains(search_string, case=False, na=False)].tolist()\n",
    "                    if col_matches:\n",
    "                        matching_words.extend(col_matches)\n",
    "                        matching_languages[col] = col_matches\n",
    "\n",
    "                if not matching_words:\n",
    "                    print(\"No matching words found.\")\n",
    "                else:\n",
    "                    print(\"Choose an option:\")\n",
    "                    for i, word in enumerate(matching_words, 1):\n",
    "                        print(f\"{i}. {word} ({', '.join([col for col, translations in matching_languages.items() if word in translations])})\")\n",
    "\n",
    "                    choice = input(\"Enter the number of your choice: \")\n",
    "\n",
    "                    if not choice.isdigit() or int(choice) < 1 or int(choice) > len(matching_words):\n",
    "                        print(\"Invalid choice.\")\n",
    "                    else:\n",
    "                        choice = int(choice)\n",
    "                        chosen_word = matching_words[choice - 1]\n",
    "                        print(\"\\nChosen Word:\")\n",
    "                        print(f\"{chosen_word} ({', '.join([col for col, translations in matching_languages.items() if chosen_word in translations])})\")\n",
    "\n",
    "                        print(\"\\nTranslations in Other Languages:\")\n",
    "                        for lang, translations in matching_languages.items():\n",
    "                            if chosen_word in translations:\n",
    "                                print(f\"{lang}: {translations[translations.index(chosen_word)]}\")\n",
    "\n",
    "                        # Ask if the user wants to Google search the chosen word\n",
    "                        google_search_choice = input(\"Do you want to Google search this term? (yes/no): \").strip().lower()\n",
    "                        if google_search_choice == 'yes':\n",
    "                            google_search_url = f\"https://www.google.com/search?q={chosen_word}\"\n",
    "\n",
    "            else:\n",
    "                print(\"Invalid choice. Please select a valid search option.\")\n",
    "\n",
    "            # Open the Google search URL if chosen\n",
    "            if google_search_choice == 'yes':\n",
    "                webbrowser.open(google_search_url)\n",
    "                break\n",
    "\n",
    "    except Exception as e:\n",
    "        return f\"An error occurred: {str(e)}\"\n",
    "\n",
    "# Example usage:\n",
    "# search_and_display('your_csv_file.csv', 'SearchKeyword')\n"
   ]
  },
  {
   "cell_type": "code",
   "execution_count": 38,
   "id": "cbb270d9-434d-4198-9374-6eaf1609e158",
   "metadata": {
    "tags": []
   },
   "outputs": [
    {
     "name": "stdin",
     "output_type": "stream",
     "text": [
      "Enter search string:  po\n"
     ]
    },
    {
     "name": "stdout",
     "output_type": "stream",
     "text": [
      "Select a search option:\n",
      "1. Search in a specific language\n",
      "2. Search across all languages\n"
     ]
    },
    {
     "name": "stdin",
     "output_type": "stream",
     "text": [
      "Enter the number of your choice:  1\n"
     ]
    },
    {
     "name": "stdout",
     "output_type": "stream",
     "text": [
      "Select a language:\n",
      "1. es\n",
      "2. de\n",
      "3. en\n"
     ]
    },
    {
     "name": "stdin",
     "output_type": "stream",
     "text": [
      "Enter the number of your choice:  1\n"
     ]
    },
    {
     "name": "stdout",
     "output_type": "stream",
     "text": [
      "Choose an option:\n",
      "1. Notacion posicional\n",
      "2. Decaimiento exponencial\n",
      "3. Proposicion analitica\n",
      "4. Cuerpo/Campo\n",
      "5. Campo tensorial\n",
      "6. Proposicion Sintetica\n",
      "7. Geometria Epipolar\n",
      "8. Cuasigrupo\n",
      "9. Anillo de polinomios\n",
      "10. Grupo\n",
      "11. Presuposicion\n",
      "12. Mundo posible\n",
      "13. Campo vectorial\n",
      "14. Algebra sobre un cuerpo\n",
      "15. Cuerpo finito\n",
      "16. Cuerpo\n",
      "17. Grupo de Grothendieck\n",
      "18. Grupo abeliano\n",
      "19. Teoria de grupos\n",
      "20. Polo\n",
      "21. A priori y a posteriori\n",
      "22. Porcentaje\n",
      "23. Exponente\n",
      "24. Poligono\n",
      "25. Hipotenusa\n",
      "26. Exponencial\n",
      "27. Funcion Exponencial\n",
      "28. Polinomio Cuadratico\n"
     ]
    },
    {
     "name": "stdin",
     "output_type": "stream",
     "text": [
      "Enter the number of your choice:  1\n"
     ]
    },
    {
     "name": "stdout",
     "output_type": "stream",
     "text": [
      "\n",
      "Chosen Option:\n",
      "Notacion posicional\n",
      "\n",
      "Translations for 'Notacion posicional' in Other Languages:\n"
     ]
    },
    {
     "name": "stdin",
     "output_type": "stream",
     "text": [
      "Do you want to Google search this term? (yes/no):  no\n"
     ]
    },
    {
     "name": "stdout",
     "output_type": "stream",
     "text": [
      "Select a search option:\n",
      "1. Search in a specific language\n",
      "2. Search across all languages\n"
     ]
    },
    {
     "name": "stdin",
     "output_type": "stream",
     "text": [
      "Enter the number of your choice:  1\n"
     ]
    },
    {
     "name": "stdout",
     "output_type": "stream",
     "text": [
      "Select a language:\n",
      "1. es\n",
      "2. de\n",
      "3. en\n"
     ]
    },
    {
     "name": "stdin",
     "output_type": "stream",
     "text": [
      "Enter the number of your choice:  3\n"
     ]
    },
    {
     "name": "stdout",
     "output_type": "stream",
     "text": [
      "Choose an option:\n",
      "1. Decimal point\n",
      "2. Exponential decay\n",
      "3. Analytic proposition\n",
      "4. Synthetic proposition\n",
      "5. Epipolar geometry\n",
      "6. Polynomial ring\n",
      "7. Presupposition\n",
      "8. Possible world\n",
      "9. Zeros and poles\n",
      "10. A priori and a posteriori\n",
      "11. Exponent\n",
      "12. Polygon\n",
      "13. Hypotenuse\n",
      "14. Exponential\n",
      "15. Inflection Point\n",
      "16. Exponential Function\n",
      "17. Quadratic Polynomial\n",
      "18. Point\n"
     ]
    },
    {
     "name": "stdin",
     "output_type": "stream",
     "text": [
      "Enter the number of your choice:  18\n"
     ]
    },
    {
     "name": "stdout",
     "output_type": "stream",
     "text": [
      "\n",
      "Chosen Option:\n",
      "Point\n",
      "\n",
      "Translations for 'Point' in Other Languages:\n"
     ]
    },
    {
     "name": "stdin",
     "output_type": "stream",
     "text": [
      "Do you want to Google search this term? (yes/no):  no\n"
     ]
    },
    {
     "name": "stdout",
     "output_type": "stream",
     "text": [
      "Select a search option:\n",
      "1. Search in a specific language\n",
      "2. Search across all languages\n"
     ]
    },
    {
     "name": "stdin",
     "output_type": "stream",
     "text": [
      "Enter the number of your choice:  2\n"
     ]
    },
    {
     "name": "stdout",
     "output_type": "stream",
     "text": [
      "Choose an option:\n",
      "1. Notacion posicional (es)\n",
      "2. Decaimiento exponencial (es)\n",
      "3. Proposicion analitica (es)\n",
      "4. Cuerpo/Campo (es)\n",
      "5. Campo tensorial (es)\n",
      "6. Proposicion Sintetica (es)\n",
      "7. Geometria Epipolar (es)\n",
      "8. Cuasigrupo (es)\n",
      "9. Anillo de polinomios (es)\n",
      "10. Grupo (es)\n",
      "11. Presuposicion (es)\n",
      "12. Mundo posible (es)\n",
      "13. Campo vectorial (es)\n",
      "14. Algebra sobre un cuerpo (es)\n",
      "15. Cuerpo finito (es)\n",
      "16. Cuerpo (es)\n",
      "17. Grupo de Grothendieck (es)\n",
      "18. Grupo abeliano (es)\n",
      "19. Teoria de grupos (es)\n",
      "20. Polo (es)\n",
      "21. A priori y a posteriori (es)\n",
      "22. Porcentaje (es)\n",
      "23. Exponente (es)\n",
      "24. Poligono (es)\n",
      "25. Hipotenusa (es)\n",
      "26. Exponencial (es)\n",
      "27. Funcion Exponencial (es)\n",
      "28. Polinomio Cuadratico (es)\n",
      "29. Exponentieller Prozess (de)\n",
      "30. Epipolargeometrie (de)\n",
      "31. Polynomring (de)\n",
      "32. Prasupposition (de)\n",
      "33. Kleenesche und positive Hulle (de)\n",
      "34. Polstelle (de)\n",
      "35. Exponent (de, en)\n",
      "36. Polygon (de, en)\n",
      "37. Hypotenuse (de, en)\n",
      "38. Exponential (de, en)\n",
      "39. Exponentialfunktion (de)\n",
      "40. Quadratisches Polynom (de)\n",
      "41. Decimal point (en)\n",
      "42. Exponential decay (en)\n",
      "43. Analytic proposition (en)\n",
      "44. Synthetic proposition (en)\n",
      "45. Epipolar geometry (en)\n",
      "46. Polynomial ring (en)\n",
      "47. Presupposition (en)\n",
      "48. Possible world (en)\n",
      "49. Zeros and poles (en)\n",
      "50. A priori and a posteriori (en)\n",
      "51. Exponent (de, en)\n",
      "52. Polygon (de, en)\n",
      "53. Hypotenuse (de, en)\n",
      "54. Exponential (de, en)\n",
      "55. Inflection Point (en)\n",
      "56. Exponential Function (en)\n",
      "57. Quadratic Polynomial (en)\n",
      "58. Point (en)\n"
     ]
    },
    {
     "name": "stdin",
     "output_type": "stream",
     "text": [
      "Enter the number of your choice:  41\n"
     ]
    },
    {
     "name": "stdout",
     "output_type": "stream",
     "text": [
      "\n",
      "Chosen Word:\n",
      "Decimal point (en)\n",
      "\n",
      "Translations in Other Languages:\n",
      "en: Decimal point\n"
     ]
    },
    {
     "ename": "KeyboardInterrupt",
     "evalue": "Interrupted by user",
     "output_type": "error",
     "traceback": [
      "\u001b[0;31m---------------------------------------------------------------------------\u001b[0m",
      "\u001b[0;31mKeyboardInterrupt\u001b[0m                         Traceback (most recent call last)",
      "Cell \u001b[0;32mIn[38], line 3\u001b[0m\n\u001b[1;32m      1\u001b[0m csv_file \u001b[38;5;241m=\u001b[39m \u001b[38;5;124m'\u001b[39m\u001b[38;5;124mdictionary_data.csv\u001b[39m\u001b[38;5;124m'\u001b[39m\n\u001b[1;32m      2\u001b[0m search_string \u001b[38;5;241m=\u001b[39m \u001b[38;5;28minput\u001b[39m(\u001b[38;5;124m\"\u001b[39m\u001b[38;5;124mEnter search string: \u001b[39m\u001b[38;5;124m\"\u001b[39m)\n\u001b[0;32m----> 3\u001b[0m \u001b[43msearch_and_display\u001b[49m\u001b[43m(\u001b[49m\u001b[43mcsv_file\u001b[49m\u001b[43m,\u001b[49m\u001b[43m \u001b[49m\u001b[43msearch_string\u001b[49m\u001b[43m)\u001b[49m\n",
      "Cell \u001b[0;32mIn[36], line 122\u001b[0m, in \u001b[0;36msearch_and_display\u001b[0;34m(csv_file, search_string)\u001b[0m\n\u001b[1;32m    119\u001b[0m         \u001b[38;5;28mprint\u001b[39m(\u001b[38;5;124mf\u001b[39m\u001b[38;5;124m\"\u001b[39m\u001b[38;5;132;01m{\u001b[39;00mlang\u001b[38;5;132;01m}\u001b[39;00m\u001b[38;5;124m: \u001b[39m\u001b[38;5;132;01m{\u001b[39;00mtranslations[translations\u001b[38;5;241m.\u001b[39mindex(chosen_word)]\u001b[38;5;132;01m}\u001b[39;00m\u001b[38;5;124m\"\u001b[39m)\n\u001b[1;32m    121\u001b[0m \u001b[38;5;66;03m# Ask if the user wants to Google search the chosen word\u001b[39;00m\n\u001b[0;32m--> 122\u001b[0m google_search_choice \u001b[38;5;241m=\u001b[39m \u001b[38;5;28;43minput\u001b[39;49m\u001b[43m(\u001b[49m\u001b[38;5;124;43m\"\u001b[39;49m\u001b[38;5;124;43mDo you want to Google search this term? (yes/no): \u001b[39;49m\u001b[38;5;124;43m\"\u001b[39;49m\u001b[43m)\u001b[49m\u001b[38;5;241m.\u001b[39mstrip()\u001b[38;5;241m.\u001b[39mlower()\n\u001b[1;32m    123\u001b[0m \u001b[38;5;28;01mif\u001b[39;00m google_search_choice \u001b[38;5;241m==\u001b[39m \u001b[38;5;124m'\u001b[39m\u001b[38;5;124myes\u001b[39m\u001b[38;5;124m'\u001b[39m:\n\u001b[1;32m    124\u001b[0m     google_search_url \u001b[38;5;241m=\u001b[39m \u001b[38;5;124mf\u001b[39m\u001b[38;5;124m\"\u001b[39m\u001b[38;5;124mhttps://www.google.com/search?q=\u001b[39m\u001b[38;5;132;01m{\u001b[39;00mchosen_word\u001b[38;5;132;01m}\u001b[39;00m\u001b[38;5;124m\"\u001b[39m\n",
      "File \u001b[0;32m~/opt/anaconda3/envs/DictionaryWebScrapingPorcess/lib/python3.9/site-packages/ipykernel/kernelbase.py:1202\u001b[0m, in \u001b[0;36mKernel.raw_input\u001b[0;34m(self, prompt)\u001b[0m\n\u001b[1;32m   1200\u001b[0m     msg \u001b[38;5;241m=\u001b[39m \u001b[38;5;124m\"\u001b[39m\u001b[38;5;124mraw_input was called, but this frontend does not support input requests.\u001b[39m\u001b[38;5;124m\"\u001b[39m\n\u001b[1;32m   1201\u001b[0m     \u001b[38;5;28;01mraise\u001b[39;00m StdinNotImplementedError(msg)\n\u001b[0;32m-> 1202\u001b[0m \u001b[38;5;28;01mreturn\u001b[39;00m \u001b[38;5;28;43mself\u001b[39;49m\u001b[38;5;241;43m.\u001b[39;49m\u001b[43m_input_request\u001b[49m\u001b[43m(\u001b[49m\n\u001b[1;32m   1203\u001b[0m \u001b[43m    \u001b[49m\u001b[38;5;28;43mstr\u001b[39;49m\u001b[43m(\u001b[49m\u001b[43mprompt\u001b[49m\u001b[43m)\u001b[49m\u001b[43m,\u001b[49m\n\u001b[1;32m   1204\u001b[0m \u001b[43m    \u001b[49m\u001b[38;5;28;43mself\u001b[39;49m\u001b[38;5;241;43m.\u001b[39;49m\u001b[43m_parent_ident\u001b[49m\u001b[43m[\u001b[49m\u001b[38;5;124;43m\"\u001b[39;49m\u001b[38;5;124;43mshell\u001b[39;49m\u001b[38;5;124;43m\"\u001b[39;49m\u001b[43m]\u001b[49m\u001b[43m,\u001b[49m\n\u001b[1;32m   1205\u001b[0m \u001b[43m    \u001b[49m\u001b[38;5;28;43mself\u001b[39;49m\u001b[38;5;241;43m.\u001b[39;49m\u001b[43mget_parent\u001b[49m\u001b[43m(\u001b[49m\u001b[38;5;124;43m\"\u001b[39;49m\u001b[38;5;124;43mshell\u001b[39;49m\u001b[38;5;124;43m\"\u001b[39;49m\u001b[43m)\u001b[49m\u001b[43m,\u001b[49m\n\u001b[1;32m   1206\u001b[0m \u001b[43m    \u001b[49m\u001b[43mpassword\u001b[49m\u001b[38;5;241;43m=\u001b[39;49m\u001b[38;5;28;43;01mFalse\u001b[39;49;00m\u001b[43m,\u001b[49m\n\u001b[1;32m   1207\u001b[0m \u001b[43m\u001b[49m\u001b[43m)\u001b[49m\n",
      "File \u001b[0;32m~/opt/anaconda3/envs/DictionaryWebScrapingPorcess/lib/python3.9/site-packages/ipykernel/kernelbase.py:1245\u001b[0m, in \u001b[0;36mKernel._input_request\u001b[0;34m(self, prompt, ident, parent, password)\u001b[0m\n\u001b[1;32m   1242\u001b[0m \u001b[38;5;28;01mexcept\u001b[39;00m \u001b[38;5;167;01mKeyboardInterrupt\u001b[39;00m:\n\u001b[1;32m   1243\u001b[0m     \u001b[38;5;66;03m# re-raise KeyboardInterrupt, to truncate traceback\u001b[39;00m\n\u001b[1;32m   1244\u001b[0m     msg \u001b[38;5;241m=\u001b[39m \u001b[38;5;124m\"\u001b[39m\u001b[38;5;124mInterrupted by user\u001b[39m\u001b[38;5;124m\"\u001b[39m\n\u001b[0;32m-> 1245\u001b[0m     \u001b[38;5;28;01mraise\u001b[39;00m \u001b[38;5;167;01mKeyboardInterrupt\u001b[39;00m(msg) \u001b[38;5;28;01mfrom\u001b[39;00m \u001b[38;5;28;01mNone\u001b[39;00m\n\u001b[1;32m   1246\u001b[0m \u001b[38;5;28;01mexcept\u001b[39;00m \u001b[38;5;167;01mException\u001b[39;00m:\n\u001b[1;32m   1247\u001b[0m     \u001b[38;5;28mself\u001b[39m\u001b[38;5;241m.\u001b[39mlog\u001b[38;5;241m.\u001b[39mwarning(\u001b[38;5;124m\"\u001b[39m\u001b[38;5;124mInvalid Message:\u001b[39m\u001b[38;5;124m\"\u001b[39m, exc_info\u001b[38;5;241m=\u001b[39m\u001b[38;5;28;01mTrue\u001b[39;00m)\n",
      "\u001b[0;31mKeyboardInterrupt\u001b[0m: Interrupted by user"
     ]
    }
   ],
   "source": [
    "csv_file = 'dictionary_data.csv'\n",
    "search_string = input(\"Enter search string: \")\n",
    "search_and_display(csv_file, search_string)"
   ]
  },
  {
   "cell_type": "code",
   "execution_count": 43,
   "id": "5f8aefce-ef27-4f44-a61d-acb7325ce4eb",
   "metadata": {
    "tags": []
   },
   "outputs": [],
   "source": [
    "def remove_accents(input_str):\n",
    "    return unidecode(input_str)\n",
    "\n",
    "def search_spanish_word(word):\n",
    "    # Manually replace spaces with %20\n",
    "    encoded_word = word.replace(' ', '%20')\n",
    "\n",
    "    # Check if the word contains spaces\n",
    "    if ' ' in word:\n",
    "        # Word has spaces, construct URL for text translation\n",
    "        query = '+'.join(encoded_word.split())\n",
    "        english_url = f\"https://en.pons.com/text-translation/spanish-english?q={query}\"\n",
    "        german_url = f\"https://de.pons.com/übersetzung/spanisch-deutsch?q={query}\"\n",
    "    else:\n",
    "        # Word is a single word, construct URL for translation\n",
    "        english_url = f\"https://en.pons.com/translate/spanish-english/{encoded_word}\"\n",
    "        german_url = f\"https://de.pons.com/übersetzung/spanisch-deutsch/{encoded_word}\"\n",
    "    \n",
    "    # Open both English and German translation pages in separate tabs\n",
    "    webbrowser.open(english_url)\n",
    "    webbrowser.open(german_url)\n",
    "\n",
    "def search_english_word(word):\n",
    "    \n",
    "    encoded_word = word.replace(' ', '%20')\n",
    "    if ' ' in word:\n",
    "    # Manually replace spaces with '+'\n",
    "        query = '+'.join(word.split())\n",
    "\n",
    "    # Construct URLs for English-Spanish and English-German translations\n",
    "        spanish_url = f\"https://dictionary.cambridge.org/spellcheck/english-spanish/?q={query}\"\n",
    "        german_url = f\"https://dictionary.cambridge.org/spellcheck/english-german/?q={query}\"\n",
    "    else:\n",
    "        # Word is a single word, construct URL for translation\n",
    "        spanish_url = f\"https://dictionary.cambridge.org/spellcheck/english-spanish/{encoded_word}\"\n",
    "        german_url = f\"https://dictionary.cambridge.org/spellcheck/english-spanish/{encoded_word}\"\n",
    "   \n",
    "    # Open both Spanish and German translation pages in separate tabs\n",
    "    webbrowser.open(spanish_url)\n",
    "    webbrowser.open(german_url)\n",
    "    \n",
    "def search_german_word(word):\n",
    "    \n",
    "    encoded_word = word.replace(' ', '%20')\n",
    "    if ' ' in word:\n",
    "    # Manually replace spaces with '+'\n",
    "        query = '+'.join(word.split())\n",
    "\n",
    "    # Construct URLs for English-Spanish and English-German translations\n",
    "        spanish_url = f\"https://dictionary.cambridge.org/spellcheck/english-spanish/?q={query}\"\n",
    "        english_url = f\"https://dictionary.cambridge.org/spellcheck/english-german/?q={query}\"\n",
    "    else:\n",
    "        # Word is a single word, construct URL for translation\n",
    "        spanish_url = f\"https://dictionary.cambridge.org/spellcheck/english-spanish/{encoded_word}\"\n",
    "        english_url = f\"https://dictionary.cambridge.org/spellcheck/english-spanish/{encoded_word}\"\n",
    "   \n",
    "    # Open both Spanish and German translation pages in separate tabs\n",
    "    webbrowser.open(spanish_url)\n",
    "    webbrowser.open(english_url)\n",
    "\n",
    "def search_and_display(csv_file, search_string):\n",
    "    try:\n",
    "        # Read data from the CSV file\n",
    "        df = pd.read_csv(csv_file)\n",
    "\n",
    "        while True:\n",
    "            print(\"Select a search option:\")\n",
    "            print(\"1. Search in a specific language\")\n",
    "            print(\"2. Search across all languages\")\n",
    "            print(\"3. Exit\")\n",
    "\n",
    "            choice = input(\"Enter the number of your choice: \")\n",
    "\n",
    "            if choice == '1':\n",
    "                # Search in a specific language\n",
    "                languages = df.columns.tolist()\n",
    "                while True:\n",
    "                    print(\"Select a language:\")\n",
    "                    for i, lang in enumerate(languages, 1):\n",
    "                        print(f\"{i}. {lang}\")\n",
    "\n",
    "                    lang_choice = input(\"Enter the number of your choice: \")\n",
    "\n",
    "                    if not lang_choice.isdigit() or int(lang_choice) < 1 or int(lang_choice) > len(languages):\n",
    "                        print(\"Invalid choice. Please select a valid language.\")\n",
    "                    else:\n",
    "                        language = languages[int(lang_choice) - 1]\n",
    "                        break\n",
    "\n",
    "                # Remove accents from the search string\n",
    "                search_string = remove_accents(search_string)\n",
    "\n",
    "                # Remove accents from the data in the selected column\n",
    "                df[language] = df[language].apply(remove_accents)\n",
    "\n",
    "                # Perform the partial string match search\n",
    "                result = df[df[language].str.contains(search_string, case=False, na=False)]\n",
    "\n",
    "                if result.empty:\n",
    "                    print(\"No matching rows found.\")\n",
    "                else:\n",
    "                    print(\"Choose an option:\")\n",
    "                    options = result[language].tolist()\n",
    "                    for i, option in enumerate(options, 1):\n",
    "                        print(f\"{i}. {option}\")\n",
    "\n",
    "                    choice = input(\"Enter the number of your choice: \")\n",
    "\n",
    "                    if not choice.isdigit() or int(choice) < 1 or int(choice) > len(options):\n",
    "                        print(\"Invalid choice.\")\n",
    "                    else:\n",
    "                        choice = int(choice)\n",
    "                        chosen_option = result.iloc[choice - 1]\n",
    "                        print(\"\\nChosen Option:\")\n",
    "                        print(f\"{chosen_option[language]}\\n\")\n",
    "                        for col in df.columns:\n",
    "                            if col != language:\n",
    "                                print(f\"{col}: {chosen_option[col]}\")\n",
    "\n",
    "            elif choice == '2':\n",
    "                # Search across all languages\n",
    "                search_string = remove_accents(search_string)\n",
    "                matching_words = []\n",
    "                matching_languages = {}\n",
    "                \n",
    "                for col in df.columns:\n",
    "                    col_matches = df[col][df[col].str.contains(search_string, case=False, na=False)].tolist()\n",
    "                    if col_matches:\n",
    "                        matching_words.extend(col_matches)\n",
    "                        matching_languages[col] = col_matches\n",
    "\n",
    "                if not matching_words:\n",
    "                    print(\"No matching words found.\")\n",
    "                else:\n",
    "                    print(\"Choose an option:\")\n",
    "                    for i, word in enumerate(matching_words, 1):\n",
    "                        matching_languages_str = \", \".join([col for col, translations in matching_languages.items() if word in translations])\n",
    "                        print(f\"{i}. {word} ({matching_languages_str})\")\n",
    "\n",
    "                    choice = input(\"Enter the number of your choice: \")\n",
    "\n",
    "                    if not choice.isdigit() or int(choice) < 1 or int(choice) > len(matching_words):\n",
    "                        print(\"Invalid choice.\")\n",
    "                    else:\n",
    "                        choice = int(choice)\n",
    "                        chosen_word = matching_words[choice - 1]\n",
    "                        print(\"\\nChosen Word:\")\n",
    "                        print(f\"{chosen_word} ({', '.join([col for col, translations in matching_languages.items() if chosen_word in translations])})\")\n",
    "\n",
    "                        print(\"\\nTranslations in Other Languages:\")\n",
    "                        for lang, translations in matching_languages.items():\n",
    "                            if chosen_word in translations:\n",
    "                                print(f\"{lang}: {translations[translations.index(chosen_word)]}\")\n",
    "\n",
    "                        google_search_choice = input(\"Do you want to search this word online? (yes/no): \").strip().lower()\n",
    "                        if google_search_choice == 'yes':\n",
    "                            if 'de' in matching_languages:\n",
    "                                search_german_word(chosen_word)\n",
    "                            elif 'es' in matching_languages:\n",
    "                                search_spanish_word(chosen_word)\n",
    "                            elif 'en' in matching_languages:\n",
    "                                search_english_word(chosen_word)\n",
    "\n",
    "            elif choice == '3':\n",
    "                print(\"Exiting...\")\n",
    "                break\n",
    "\n",
    "            else:\n",
    "                print(\"Invalid choice. Please select a valid search option.\")\n",
    "\n",
    "    except Exception as e:\n",
    "        return f\"An error occurred: {str(e)}\"\n"
   ]
  },
  {
   "cell_type": "code",
   "execution_count": 44,
   "id": "bfe3fe11-e214-41c0-a5e9-e422170a2be5",
   "metadata": {},
   "outputs": [
    {
     "name": "stdin",
     "output_type": "stream",
     "text": [
      "Enter search string:  po\n"
     ]
    },
    {
     "name": "stdout",
     "output_type": "stream",
     "text": [
      "Select a search option:\n",
      "1. Search in a specific language\n",
      "2. Search across all languages\n",
      "3. Exit\n"
     ]
    },
    {
     "name": "stdin",
     "output_type": "stream",
     "text": [
      "Enter the number of your choice:  1\n"
     ]
    },
    {
     "name": "stdout",
     "output_type": "stream",
     "text": [
      "Select a language:\n",
      "1. es\n",
      "2. de\n",
      "3. en\n"
     ]
    },
    {
     "name": "stdin",
     "output_type": "stream",
     "text": [
      "Enter the number of your choice:  1\n"
     ]
    },
    {
     "name": "stdout",
     "output_type": "stream",
     "text": [
      "Choose an option:\n",
      "1. Notacion posicional\n",
      "2. Decaimiento exponencial\n",
      "3. Proposicion analitica\n",
      "4. Cuerpo/Campo\n",
      "5. Campo tensorial\n",
      "6. Proposicion Sintetica\n",
      "7. Geometria Epipolar\n",
      "8. Cuasigrupo\n",
      "9. Anillo de polinomios\n",
      "10. Grupo\n",
      "11. Presuposicion\n",
      "12. Mundo posible\n",
      "13. Campo vectorial\n",
      "14. Algebra sobre un cuerpo\n",
      "15. Cuerpo finito\n",
      "16. Cuerpo\n",
      "17. Grupo de Grothendieck\n",
      "18. Grupo abeliano\n",
      "19. Teoria de grupos\n",
      "20. Polo\n",
      "21. A priori y a posteriori\n",
      "22. Porcentaje\n",
      "23. Exponente\n",
      "24. Poligono\n",
      "25. Hipotenusa\n",
      "26. Exponencial\n",
      "27. Funcion Exponencial\n",
      "28. Polinomio Cuadratico\n"
     ]
    },
    {
     "name": "stdin",
     "output_type": "stream",
     "text": [
      "Enter the number of your choice:  1\n"
     ]
    },
    {
     "name": "stdout",
     "output_type": "stream",
     "text": [
      "\n",
      "Chosen Option:\n",
      "Notacion posicional\n",
      "\n",
      "de: Stellenwertsystem\n",
      "en: Place value\n",
      "Select a search option:\n",
      "1. Search in a specific language\n",
      "2. Search across all languages\n",
      "3. Exit\n"
     ]
    },
    {
     "name": "stdin",
     "output_type": "stream",
     "text": [
      "Enter the number of your choice:  2\n"
     ]
    },
    {
     "name": "stdout",
     "output_type": "stream",
     "text": [
      "Choose an option:\n",
      "1. Notacion posicional (es)\n",
      "2. Decaimiento exponencial (es)\n",
      "3. Proposicion analitica (es)\n",
      "4. Cuerpo/Campo (es)\n",
      "5. Campo tensorial (es)\n",
      "6. Proposicion Sintetica (es)\n",
      "7. Geometria Epipolar (es)\n",
      "8. Cuasigrupo (es)\n",
      "9. Anillo de polinomios (es)\n",
      "10. Grupo (es)\n",
      "11. Presuposicion (es)\n",
      "12. Mundo posible (es)\n",
      "13. Campo vectorial (es)\n",
      "14. Algebra sobre un cuerpo (es)\n",
      "15. Cuerpo finito (es)\n",
      "16. Cuerpo (es)\n",
      "17. Grupo de Grothendieck (es)\n",
      "18. Grupo abeliano (es)\n",
      "19. Teoria de grupos (es)\n",
      "20. Polo (es)\n",
      "21. A priori y a posteriori (es)\n",
      "22. Porcentaje (es)\n",
      "23. Exponente (es)\n",
      "24. Poligono (es)\n",
      "25. Hipotenusa (es)\n",
      "26. Exponencial (es)\n",
      "27. Funcion Exponencial (es)\n",
      "28. Polinomio Cuadratico (es)\n",
      "29. Exponentieller Prozess (de)\n",
      "30. Epipolargeometrie (de)\n",
      "31. Polynomring (de)\n",
      "32. Präsupposition (de)\n",
      "33. Kleenesche und positive Hülle (de)\n",
      "34. Polstelle (de)\n",
      "35. Exponent (de, en)\n",
      "36. Polygon (de, en)\n",
      "37. Hypotenuse (de, en)\n",
      "38. Exponential (de, en)\n",
      "39. Exponentialfunktion (de)\n",
      "40. Quadratisches Polynom (de)\n",
      "41. Decimal point (en)\n",
      "42. Exponential decay (en)\n",
      "43. Analytic proposition (en)\n",
      "44. Synthetic proposition (en)\n",
      "45. Epipolar geometry (en)\n",
      "46. Polynomial ring (en)\n",
      "47. Presupposition (en)\n",
      "48. Possible world (en)\n",
      "49. Zeros and poles (en)\n",
      "50. A priori and a posteriori (en)\n",
      "51. Exponent (de, en)\n",
      "52. Polygon (de, en)\n",
      "53. Hypotenuse (de, en)\n",
      "54. Exponential (de, en)\n",
      "55. Inflection Point (en)\n",
      "56. Exponential Function (en)\n",
      "57. Quadratic Polynomial (en)\n",
      "58. Point (en)\n"
     ]
    },
    {
     "name": "stdin",
     "output_type": "stream",
     "text": [
      "Enter the number of your choice:  1\n"
     ]
    },
    {
     "name": "stdout",
     "output_type": "stream",
     "text": [
      "\n",
      "Chosen Word:\n",
      "Notacion posicional (es)\n",
      "\n",
      "Translations in Other Languages:\n",
      "es: Notacion posicional\n"
     ]
    },
    {
     "name": "stdin",
     "output_type": "stream",
     "text": [
      "Do you want to search this word online? (yes/no):  yes\n"
     ]
    },
    {
     "name": "stdout",
     "output_type": "stream",
     "text": [
      "Select a search option:\n",
      "1. Search in a specific language\n",
      "2. Search across all languages\n",
      "3. Exit\n"
     ]
    },
    {
     "name": "stdin",
     "output_type": "stream",
     "text": [
      "Enter the number of your choice:  3\n"
     ]
    },
    {
     "name": "stdout",
     "output_type": "stream",
     "text": [
      "Exiting...\n"
     ]
    }
   ],
   "source": [
    "csv_file = 'dictionary_data.csv'\n",
    "search_string = input(\"Enter search string: \")\n",
    "search_and_display(csv_file, search_string)"
   ]
  },
  {
   "cell_type": "code",
   "execution_count": 52,
   "id": "7415d8bb-6bda-4630-afe5-f801978b9cc5",
   "metadata": {
    "tags": []
   },
   "outputs": [],
   "source": [
    "import pandas as pd\n",
    "from unidecode import unidecode\n",
    "import numpy as np\n",
    "import urllib.parse\n",
    "import webbrowser\n",
    "\n",
    "def remove_accents(input_str):\n",
    "    return unidecode(input_str)\n",
    "\n",
    "\n",
    "import webbrowser  # Add this import at the beginning of your script\n",
    "\n",
    "# ...\n",
    "\n",
    "import webbrowser  # Add this import at the beginning of your script\n",
    "\n",
    "# ...\n",
    "\n",
    "def search_and_display(csv_file, search_string):\n",
    "    try:\n",
    "        # Read data from the CSV file\n",
    "        df = pd.read_csv(csv_file)\n",
    "\n",
    "        while True:\n",
    "            print(\"Select a search option:\")\n",
    "            print(\"1. Search in a specific language\")\n",
    "            print(\"2. Display matches in all languages\")\n",
    "            print(\"3. Start a new search\")\n",
    "            print(\"4. Exit\")\n",
    "\n",
    "            choice = input(\"Enter the number of your choice: \")\n",
    "\n",
    "            if choice == '1':\n",
    "                # Search in a specific language\n",
    "                languages = df.columns.tolist()\n",
    "                while True:\n",
    "                    print(\"Select a language:\")\n",
    "                    for i, lang in enumerate(languages, 1):\n",
    "                        print(f\"{i}. {lang}\")\n",
    "\n",
    "                    lang_choice = input(\"Enter the number of your choice: \")\n",
    "\n",
    "                    if not lang_choice.isdigit() or int(lang_choice) < 1 or int(lang_choice) > len(languages):\n",
    "                        print(\"Invalid choice. Please select a valid language.\")\n",
    "                    else:\n",
    "                        language = languages[int(lang_choice) - 1]\n",
    "                        break\n",
    "\n",
    "                # Remove accents from the search string\n",
    "                search_string = remove_accents(search_string)\n",
    "\n",
    "                # Remove accents from the data in the selected column\n",
    "                df[language] = df[language].apply(remove_accents)\n",
    "\n",
    "                # Perform the partial string match search\n",
    "                result = df[df[language].str.contains(search_string, case=False, na=False)]\n",
    "\n",
    "                if result.empty:\n",
    "                    print(\"No matching rows found.\")\n",
    "                else:\n",
    "                    print(\"Choose an option:\")\n",
    "                    options = result[language].tolist()\n",
    "                    for i, option in enumerate(options, 1):\n",
    "                        print(f\"{i}. {option}\")\n",
    "\n",
    "                    choice = input(\"Enter the number of your choice: \")\n",
    "\n",
    "                    if not choice.isdigit() or int(choice) < 1 or int(choice) > len(options):\n",
    "                        print(\"Invalid choice.\")\n",
    "                    else:\n",
    "                        choice = int(choice)\n",
    "                        chosen_option = result.iloc[choice - 1]\n",
    "                        print(\"\\nChosen Option:\")\n",
    "                        print(f\"{chosen_option[language]}\\n\")\n",
    "                        for col in df.columns:\n",
    "                            if col != language:\n",
    "                                print(f\"{col}: {chosen_option[col]}\")\n",
    "\n",
    "                        # Offer options for online searches\n",
    "                        search_choice = input(\"Do you want to perform an online search? (yes/no): \").strip().lower()\n",
    "                        if search_choice == 'yes':\n",
    "                            google_search_choice = input(\"What would you like to search for online?\\n\"\n",
    "                                                         \"1. Selected word\\n\"\n",
    "                                                         \"2. Translations\\n\"\n",
    "                                                         \"3. Neither (Continue with the program)\\n\"\n",
    "                                                         \"Enter the number of your choice: \").strip().lower()\n",
    "                            if google_search_choice == '1':\n",
    "                                if 'de' in language:\n",
    "                                    webbrowser.open(f\"https://www.google.de/search?q={chosen_option[language]}\")\n",
    "                                else:\n",
    "                                    webbrowser.open(f\"https://www.google.com/search?q={chosen_option[language]}\")\n",
    "                            elif google_search_choice == '2':\n",
    "                                for col in df.columns:\n",
    "                                    if col != language:\n",
    "                                        print(f\"Searching for translation in {col}: {chosen_option[col]}\")\n",
    "                                        if 'de' in col:\n",
    "                                            webbrowser.open(f\"https://www.google.de/search?q={chosen_option[col]}\")\n",
    "                                        else:\n",
    "                                            webbrowser.open(f\"https://www.google.com/search?q={chosen_option[col]}\")\n",
    "                            elif google_search_choice == '3':\n",
    "                                pass  # Continue with the program\n",
    "                            else:\n",
    "                                print(\"Invalid choice. Continuing with the program.\")\n",
    "\n",
    "            elif choice == '2':\n",
    "                # Display matches in all languages\n",
    "                search_string = remove_accents(search_string)\n",
    "                matching_words = []\n",
    "                matching_languages = {}\n",
    "\n",
    "                for col in df.columns:\n",
    "                    col_matches = df[col][df[col].str.contains(search_string, case=False, na=False)].tolist()\n",
    "                    if col_matches:\n",
    "                        matching_words.extend(col_matches)\n",
    "                        matching_languages[col] = col_matches\n",
    "\n",
    "                if not matching_words:\n",
    "                    print(\"No matching words found in any language.\")\n",
    "                else:\n",
    "                    print(\"\\nMatching Words in All Languages:\")\n",
    "                    for word in matching_words:\n",
    "                        matching_languages_str = \", \".join(\n",
    "                            [col for col, translations in matching_languages.items() if word in translations])\n",
    "                        print(f\"{word} ({matching_languages_str})\")\n",
    "\n",
    "            elif choice == '3':\n",
    "                print(\"Starting a new search...\")\n",
    "                search_string = input(\"Enter a new search string: \")\n",
    "                continue  # Start a new search\n",
    "\n",
    "            elif choice == '4':\n",
    "                print(\"Exiting...\")\n",
    "                break\n",
    "\n",
    "            else:\n",
    "                print(\"Invalid choice. Please select a valid search option.\")\n",
    "\n",
    "    except Exception as e:\n",
    "        return f\"An error occurred: {str(e)}\"\n",
    "\n",
    "\n"
   ]
  },
  {
   "cell_type": "code",
   "execution_count": null,
   "id": "a33e2e41-24e5-4f9a-b6d8-02413bea306b",
   "metadata": {
    "tags": []
   },
   "outputs": [
    {
     "name": "stdin",
     "output_type": "stream",
     "text": [
      "Enter search string:  v\n"
     ]
    },
    {
     "name": "stdout",
     "output_type": "stream",
     "text": [
      "Select a search option:\n",
      "1. Search in a specific language\n",
      "2. Display matches in all languages\n",
      "3. Start a new search\n",
      "4. Exit\n"
     ]
    },
    {
     "name": "stdin",
     "output_type": "stream",
     "text": [
      "Enter the number of your choice:  2\n"
     ]
    },
    {
     "name": "stdout",
     "output_type": "stream",
     "text": [
      "\n",
      "Matching Words in All Languages:\n",
      "Conectiva lógica (es)\n",
      "Equivalencia de categorías (es)\n",
      "Distributividad (es)\n",
      "Intervalo (es)\n",
      "Anillo conmutativo (es)\n",
      "Verdad lógica (es)\n",
      "Módulo proyectivo (es)\n",
      "Fibrado vectorial (es)\n",
      "Asociatividad (es)\n",
      "Nichtkommutative algebraische Geometrie (es)\n",
      "División (es)\n",
      "Valor de verdad (es)\n",
      "Conmutatividad (es)\n",
      "Distributividad (es)\n",
      "Geometría constructiva de sólidos (es)\n",
      "Espacio vectorial (es)\n",
      "Involución (es)\n",
      "Envolvente convexa (es)\n",
      "Convexidad (es)\n",
      "Geometría proyectiva (es)\n",
      "Conjunto vacío (es)\n",
      "Valor facial (es)\n",
      "Conmutatividad (es)\n",
      "Función de verdad (es)\n",
      "Inverso multiplicativo (es)\n",
      "Geometría convexa (es)\n",
      "Verdad (es)\n",
      "Conectiva lógica (es)\n",
      "Geometría descriptiva (es)\n",
      "Conjunto transitivo (es)\n",
      "Cuantificador universal (es)\n",
      "Orden de evaluación (es)\n",
      "Validez (es)\n",
      "Campo vectorial (es)\n",
      "Pseudoinverso (es)\n",
      "Geometría enumerativa (es)\n",
      "Variedad diferenciable (es)\n",
      "Cuantificador universal (es)\n",
      "Geometría no conmutativa (es)\n",
      "División (es)\n",
      "Volumen (es, de)\n",
      "Vértice (es)\n",
      "Derivada (es)\n",
      "Volumen (es, de)\n",
      "Intervalo (es)\n",
      "Divisor (es, en)\n",
      "Matriz Inversa (es)\n",
      "Número Primo Relativo (es)\n",
      "Valor Absoluto (es)\n",
      "Espacio Vectorial (es)\n",
      "Matriz Inversa (es)\n",
      "Derivada Parcial (es)\n",
      "Cálculo Vectorial (es)\n",
      "Intervalo Abierto (es)\n",
      "Logische Verknüpfung (de)\n",
      "Äquivalenz (de)\n",
      "Satz von Serre und Swan (de)\n",
      "Distributivgesetz (de)\n",
      "Intervall (de)\n",
      "Kommutativer Ring (de)\n",
      "Projektiver Modul (de)\n",
      "Vernunft (de)\n",
      "Birationale Äquivalenz (de)\n",
      "Vektorbündel (de)\n",
      "Assoziativgesetz (de)\n",
      "Geometría algebraica no conmutativa (de)\n",
      "Inverses Element (de)\n",
      "Division (de, en)\n",
      "Kommutativgesetz (de)\n",
      "Distributivgesetz (de)\n",
      "Constructive Solid Geometry (de)\n",
      "Vektorraum (de)\n",
      "Involution (de, en)\n",
      "Konvexe Hülle (de)\n",
      "Konvexe Menge (de)\n",
      "Projektive Geometrie (de)\n",
      "Verhältnis (de)\n",
      "Zweistellige Verknüpfung (de)\n",
      "Kommutativgesetz (de)\n",
      "Inverses Element (de)\n",
      "Einstellige Verknüpfung (de)\n",
      "Konvexgeometrie (de)\n",
      "Logische Verknüpfung (de)\n",
      "Transitive Menge (de)\n",
      "Vereinigungsmenge (de)\n",
      "Vektorfeld (de)\n",
      "Kleenesche und positive Hülle (de)\n",
      "Pseudoinverse (de)\n",
      "Vernunft (de)\n",
      "Nichtkommutative Geometrie (de)\n",
      "Vor und nach (de)\n",
      "Division (de, en)\n",
      "Volumen (es, de)\n",
      "Volumen (es, de)\n",
      "Intervall (de)\n",
      "Voller Winkel (de)\n",
      "Inverse Matrix (de)\n",
      "Relative Primzahl (de)\n",
      "Satz von Rolle (de)\n",
      "Vektorraum (de)\n",
      "Inverse Matrix (de)\n",
      "Vektorrechnung (de)\n",
      "Offenes Intervall (de)\n",
      "Logical connective (en)\n",
      "Equivalence of categories (en)\n",
      "Distributivity (en)\n",
      "Interval (en)\n",
      "Commutative ring (en)\n",
      "Projective module (en)\n",
      "Vector bundle (en)\n",
      "Associativity (en)\n",
      "Place value (en)\n",
      "Noncommutative algebraic geometry (en)\n",
      "Invertible element (en)\n",
      "Division (de, en)\n",
      "Truth value (en)\n",
      "Commutativity (en)\n",
      "Distributive property (en)\n",
      "Constructive solid geometry (en)\n",
      "Vector space (en)\n",
      "Involution (de, en)\n",
      "Convex hull (en)\n",
      "Convex set (en)\n",
      "Projective geometry (en)\n",
      "Multiplicative identity (en)\n",
      "Face value (en)\n",
      "Commutative property (en)\n",
      "Inverse element (en)\n",
      "Multiplicative inverse (en)\n",
      "Convex geometry (en)\n",
      "Descriptive geometry (en)\n",
      "Transitive set (en)\n",
      "Additive inverse (en)\n",
      "Given any (en)\n",
      "Validity (en)\n",
      "Vector field (en)\n",
      "Generalized inverse (en)\n",
      "Enumerative geometry (en)\n",
      "Algebra over a field (en)\n",
      "Universal quantification (en)\n",
      "Noncommutative geometry (en)\n",
      "Division (de, en)\n",
      "Volume (en)\n",
      "Vertex (en)\n",
      "Derivative (en)\n",
      "Volume (en)\n",
      "Interval (en)\n",
      "Divisor (es, en)\n",
      "Inversa (en)\n",
      "Relatively Prime (en)\n",
      "Absolute Value (en)\n",
      "Vector Space (en)\n",
      "Inverse (en)\n",
      "Partial Derivative (en)\n",
      "Vector Calculus (en)\n",
      "Open Interval (en)\n",
      "Select a search option:\n",
      "1. Search in a specific language\n",
      "2. Display matches in all languages\n",
      "3. Start a new search\n",
      "4. Exit\n"
     ]
    },
    {
     "name": "stdin",
     "output_type": "stream",
     "text": [
      "Enter the number of your choice:  1\n"
     ]
    },
    {
     "name": "stdout",
     "output_type": "stream",
     "text": [
      "Select a language:\n",
      "1. es\n",
      "2. de\n",
      "3. en\n"
     ]
    },
    {
     "name": "stdin",
     "output_type": "stream",
     "text": [
      "Enter the number of your choice:  en\n"
     ]
    },
    {
     "name": "stdout",
     "output_type": "stream",
     "text": [
      "Invalid choice. Please select a valid language.\n",
      "Select a language:\n",
      "1. es\n",
      "2. de\n",
      "3. en\n"
     ]
    },
    {
     "name": "stdin",
     "output_type": "stream",
     "text": [
      "Enter the number of your choice:  3\n"
     ]
    },
    {
     "name": "stdout",
     "output_type": "stream",
     "text": [
      "Choose an option:\n",
      "1. Logical connective\n",
      "2. Equivalence of categories\n",
      "3. Distributivity\n",
      "4. Interval\n",
      "5. Commutative ring\n",
      "6. Projective module\n",
      "7. Vector bundle\n",
      "8. Associativity\n",
      "9. Place value\n",
      "10. Noncommutative algebraic geometry\n",
      "11. Invertible element\n",
      "12. Division\n",
      "13. Truth value\n",
      "14. Commutativity\n",
      "15. Distributive property\n",
      "16. Constructive solid geometry\n",
      "17. Vector space\n",
      "18. Involution\n",
      "19. Convex hull\n",
      "20. Convex set\n",
      "21. Projective geometry\n",
      "22. Multiplicative identity\n",
      "23. Face value\n",
      "24. Commutative property\n",
      "25. Inverse element\n",
      "26. Multiplicative inverse\n",
      "27. Convex geometry\n",
      "28. Descriptive geometry\n",
      "29. Transitive set\n",
      "30. Additive inverse\n",
      "31. Given any\n",
      "32. Validity\n",
      "33. Vector field\n",
      "34. Generalized inverse\n",
      "35. Enumerative geometry\n",
      "36. Algebra over a field\n",
      "37. Universal quantification\n",
      "38. Noncommutative geometry\n",
      "39. Division\n",
      "40. Volume\n",
      "41. Vertex\n",
      "42. Derivative\n",
      "43. Volume\n",
      "44. Interval\n",
      "45. Divisor\n",
      "46. Inversa\n",
      "47. Relatively Prime\n",
      "48. Absolute Value\n",
      "49. Vector Space\n",
      "50. Inverse\n",
      "51. Partial Derivative\n",
      "52. Vector Calculus\n",
      "53. Open Interval\n"
     ]
    },
    {
     "name": "stdin",
     "output_type": "stream",
     "text": [
      "Enter the number of your choice:  9\n"
     ]
    },
    {
     "name": "stdout",
     "output_type": "stream",
     "text": [
      "\n",
      "Chosen Option:\n",
      "Place value\n",
      "\n",
      "es: Notación posicional\n",
      "de: Stellenwertsystem\n"
     ]
    },
    {
     "name": "stdin",
     "output_type": "stream",
     "text": [
      "Do you want to perform an online search? (yes/no):  yes\n",
      "What would you like to search for online?\n",
      "1. Selected word\n",
      "2. Translations\n",
      "3. Neither (Continue with the program)\n",
      "Enter the number of your choice:  2\n"
     ]
    },
    {
     "name": "stdout",
     "output_type": "stream",
     "text": [
      "Searching for translation in es: Notación posicional\n",
      "Searching for translation in de: Stellenwertsystem\n",
      "Select a search option:\n",
      "1. Search in a specific language\n",
      "2. Display matches in all languages\n",
      "3. Start a new search\n",
      "4. Exit\n"
     ]
    },
    {
     "name": "stdin",
     "output_type": "stream",
     "text": [
      "Enter the number of your choice:  3\n"
     ]
    },
    {
     "name": "stdout",
     "output_type": "stream",
     "text": [
      "Starting a new search...\n"
     ]
    },
    {
     "name": "stdin",
     "output_type": "stream",
     "text": [
      "Enter a new search string:  place value\n"
     ]
    },
    {
     "name": "stdout",
     "output_type": "stream",
     "text": [
      "Select a search option:\n",
      "1. Search in a specific language\n",
      "2. Display matches in all languages\n",
      "3. Start a new search\n",
      "4. Exit\n"
     ]
    },
    {
     "name": "stdin",
     "output_type": "stream",
     "text": [
      "Enter the number of your choice:  1\n"
     ]
    },
    {
     "name": "stdout",
     "output_type": "stream",
     "text": [
      "Select a language:\n",
      "1. es\n",
      "2. de\n",
      "3. en\n"
     ]
    },
    {
     "name": "stdin",
     "output_type": "stream",
     "text": [
      "Enter the number of your choice:  3\n"
     ]
    },
    {
     "name": "stdout",
     "output_type": "stream",
     "text": [
      "Choose an option:\n",
      "1. Place value\n"
     ]
    },
    {
     "name": "stdin",
     "output_type": "stream",
     "text": [
      "Enter the number of your choice:  1\n"
     ]
    },
    {
     "name": "stdout",
     "output_type": "stream",
     "text": [
      "\n",
      "Chosen Option:\n",
      "Place value\n",
      "\n",
      "es: Notación posicional\n",
      "de: Stellenwertsystem\n"
     ]
    },
    {
     "name": "stdin",
     "output_type": "stream",
     "text": [
      "Do you want to perform an online search? (yes/no):  yes\n",
      "What would you like to search for online?\n",
      "1. Selected word\n",
      "2. Translations\n",
      "3. Neither (Continue with the program)\n",
      "Enter the number of your choice:  1\n"
     ]
    },
    {
     "name": "stdout",
     "output_type": "stream",
     "text": [
      "Select a search option:\n",
      "1. Search in a specific language\n",
      "2. Display matches in all languages\n",
      "3. Start a new search\n",
      "4. Exit\n"
     ]
    }
   ],
   "source": [
    "csv_file = 'dictionary_data.csv'\n",
    "search_string = input(\"Enter search string: \")\n",
    "search_and_display(csv_file, search_string)"
   ]
  }
 ],
 "metadata": {
  "kernelspec": {
   "display_name": "Python 3 (ipykernel)",
   "language": "python",
   "name": "python3"
  },
  "language_info": {
   "codemirror_mode": {
    "name": "ipython",
    "version": 3
   },
   "file_extension": ".py",
   "mimetype": "text/x-python",
   "name": "python",
   "nbconvert_exporter": "python",
   "pygments_lexer": "ipython3",
   "version": "3.9.17"
  }
 },
 "nbformat": 4,
 "nbformat_minor": 5
}
