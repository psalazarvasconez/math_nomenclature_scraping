{
 "cells": [
  {
   "cell_type": "code",
   "execution_count": 2,
   "id": "b2805df5-523c-45f4-956a-78b94a3811cb",
   "metadata": {
    "tags": []
   },
   "outputs": [],
   "source": [
    "import pandas as pd\n",
    "from unidecode import unidecode\n",
    "import numpy as np"
   ]
  },
  {
   "cell_type": "code",
   "execution_count": 51,
   "id": "46ce8218-f19c-40b0-8f0a-546fd04b948a",
   "metadata": {},
   "outputs": [],
   "source": [
    "import webbrowser\n",
    "\n",
    "def remove_accents(input_str):\n",
    "    return unidecode(input_str)\n",
    "\n",
    "def search_and_display(csv_file, search_string):\n",
    "    try:\n",
    "        # Read data from the CSV file\n",
    "        df = pd.read_csv(csv_file)\n",
    "\n",
    "        # Prompt the user to select a search option\n",
    "        while True:\n",
    "            print(\"Select a search option:\")\n",
    "            print(\"1. Search in a specific language\")\n",
    "            print(\"2. Search across all languages\")\n",
    "\n",
    "            choice = input(\"Enter the number of your choice: \")\n",
    "\n",
    "            if choice == '1':\n",
    "                # Search in a specific language\n",
    "                languages = df.columns.tolist()\n",
    "                while True:\n",
    "                    print(\"Select a language:\")\n",
    "                    for i, lang in enumerate(languages, 1):\n",
    "                        print(f\"{i}. {lang}\")\n",
    "\n",
    "                    lang_choice = input(\"Enter the number of your choice: \")\n",
    "\n",
    "                    if not lang_choice.isdigit() or int(lang_choice) < 1 or int(lang_choice) > len(languages):\n",
    "                        print(\"Invalid choice. Please select a valid language.\")\n",
    "                    else:\n",
    "                        language = languages[int(lang_choice) - 1]\n",
    "                        break\n",
    "\n",
    "                # Remove accents from the search string\n",
    "                search_string = remove_accents(search_string)\n",
    "\n",
    "                # Remove accents from the data in the selected column\n",
    "                df[language] = df[language].apply(remove_accents)\n",
    "\n",
    "                # Perform the partial string match search\n",
    "                result = df[df[language].str.contains(search_string, case=False, na=False)]\n",
    "\n",
    "                if result.empty:\n",
    "                    print(\"No matching rows found.\")\n",
    "                else:\n",
    "                    print(\"Choose an option:\")\n",
    "                    options = result[language].tolist()\n",
    "                    for i, option in enumerate(options, 1):\n",
    "                        print(f\"{i}. {option}\")\n",
    "\n",
    "                    choice = input(\"Enter the number of your choice: \")\n",
    "\n",
    "                    if not choice.isdigit() or int(choice) < 1 or int(choice) > len(options):\n",
    "                        print(\"Invalid choice.\")\n",
    "                    else:\n",
    "                        choice = int(choice)\n",
    "                        chosen_option = result.iloc[choice - 1]\n",
    "                        print(\"\\nChosen Option:\")\n",
    "                        print(f\"{chosen_option[language]}\\n\")\n",
    "                        \n",
    "                        # Get the translations in other languages\n",
    "                        translations = {}\n",
    "                        for col in df.columns:\n",
    "                            if col != language and col != 'en':  # Exclude the selected language and 'en' column\n",
    "                                translations[col] = chosen_option[col]\n",
    "                        \n",
    "                        # Display the translations\n",
    "                        print(f\"{language}: {chosen_option[language]}\")\n",
    "                        for lang, translation in translations.items():\n",
    "                            print(f\"{lang}: {translation}\")\n",
    "\n",
    "                        # Ask if the user wants to Google search the chosen word\n",
    "                        google_search_choice = input(\"Do you want to Google search this term? (yes/no): \").strip().lower()\n",
    "                        if google_search_choice == 'yes':\n",
    "                            google_search_url = f\"https://www.google.com/search?q={chosen_option[language]}\"\n",
    "\n",
    "            elif choice == '2':\n",
    "                # Search across all languages\n",
    "                search_string = remove_accents(search_string)\n",
    "                matching_words = []\n",
    "                matching_languages = {}\n",
    "                \n",
    "                for col in df.columns:\n",
    "                    col_matches = df[col][df[col].str.contains(search_string, case=False, na=False)].tolist()\n",
    "                    if col_matches:\n",
    "                        matching_words.extend(col_matches)\n",
    "                        matching_languages[col] = col_matches\n",
    "\n",
    "                if not matching_words:\n",
    "                    print(\"No matching words found.\")\n",
    "                else:\n",
    "                    print(\"Choose an option:\")\n",
    "                    for i, word in enumerate(matching_words, 1):\n",
    "                        print(f\"{i}. {word} ({', '.join([col for col, translations in matching_languages.items() if word in translations])})\")\n",
    "\n",
    "                    choice = input(\"Enter the number of your choice: \")\n",
    "\n",
    "                    if not choice.isdigit() or int(choice) < 1 or int(choice) > len(matching_words):\n",
    "                        print(\"Invalid choice.\")\n",
    "                    else:\n",
    "                        choice = int(choice)\n",
    "                        chosen_word = matching_words[choice - 1]\n",
    "                        print(\"\\nChosen Word:\")\n",
    "                        print(f\"{chosen_word} ({', '.join([col for col, translations in matching_languages.items() if chosen_word in translations])})\")\n",
    "\n",
    "                        print(\"\\nTranslations in Other Languages:\")\n",
    "                        for lang, translations in matching_languages.items():\n",
    "                            if chosen_word in translations:\n",
    "                                print(f\"{lang}: {translations[translations.index(chosen_word)]}\")\n",
    "\n",
    "                        # Ask if the user wants to Google search the chosen word\n",
    "                        google_search_choice = input(\"Do you want to Google search this term? (yes/no): \").strip().lower()\n",
    "                        if google_search_choice == 'yes':\n",
    "                            google_search_url = f\"https://www.google.com/search?q={chosen_word}\"\n",
    "\n",
    "            else:\n",
    "                print(\"Invalid choice. Please select a valid search option.\")\n",
    "\n",
    "            # Open the Google search URL if chosen\n",
    "            if google_search_choice == 'yes':\n",
    "                webbrowser.open(google_search_url)\n",
    "                break\n",
    "\n",
    "    except Exception as e:\n",
    "        return f\"An error occurred: {str(e)}\""
   ]
  },
  {
   "cell_type": "code",
   "execution_count": 52,
   "id": "cbb270d9-434d-4198-9374-6eaf1609e158",
   "metadata": {
    "tags": []
   },
   "outputs": [
    {
     "name": "stdin",
     "output_type": "stream",
     "text": [
      "Enter search string:  math\n"
     ]
    },
    {
     "name": "stdout",
     "output_type": "stream",
     "text": [
      "Select a search option:\n",
      "1. Search in a specific language\n",
      "2. Search across all languages\n"
     ]
    },
    {
     "name": "stdin",
     "output_type": "stream",
     "text": [
      "Enter the number of your choice:  1\n"
     ]
    },
    {
     "name": "stdout",
     "output_type": "stream",
     "text": [
      "Select a language:\n",
      "1. es\n",
      "2. de\n",
      "3. en\n"
     ]
    },
    {
     "name": "stdin",
     "output_type": "stream",
     "text": [
      "Enter the number of your choice:  3\n"
     ]
    },
    {
     "name": "stdout",
     "output_type": "stream",
     "text": [
      "Choose an option:\n",
      "1. Mathematical analysis\n",
      "2. Mathematical Analysis\n",
      "3. Mathematics\n"
     ]
    },
    {
     "name": "stdin",
     "output_type": "stream",
     "text": [
      "Enter the number of your choice:  1\n"
     ]
    },
    {
     "name": "stdout",
     "output_type": "stream",
     "text": [
      "\n",
      "Chosen Option:\n",
      "Mathematical analysis\n",
      "\n",
      "en: Mathematical analysis\n",
      "es: Análisis matemático\n",
      "de: Analysis\n"
     ]
    },
    {
     "name": "stdin",
     "output_type": "stream",
     "text": [
      "Do you want to Google search this term? (yes/no):  yes\n"
     ]
    }
   ],
   "source": [
    "csv_file = 'dictionary_data.csv'\n",
    "search_string = input(\"Enter search string: \")\n",
    "search_and_display(csv_file, search_string)"
   ]
  }
 ],
 "metadata": {
  "kernelspec": {
   "display_name": "Python 3 (ipykernel)",
   "language": "python",
   "name": "python3"
  },
  "language_info": {
   "codemirror_mode": {
    "name": "ipython",
    "version": 3
   },
   "file_extension": ".py",
   "mimetype": "text/x-python",
   "name": "python",
   "nbconvert_exporter": "python",
   "pygments_lexer": "ipython3",
   "version": "3.9.17"
  }
 },
 "nbformat": 4,
 "nbformat_minor": 5
}
