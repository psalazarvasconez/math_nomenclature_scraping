{
 "cells": [
  {
   "cell_type": "code",
   "execution_count": null,
   "id": "58ba9838-2e2c-4e86-a1ac-ef9e10b899c9",
   "metadata": {
    "tags": []
   },
   "outputs": [
    {
     "name": "stdin",
     "output_type": "stream",
     "text": [
      "Enter search string:  limite\n"
     ]
    },
    {
     "name": "stdout",
     "output_type": "stream",
     "text": [
      "Select a search option:\n",
      "1. Search in a specific language\n",
      "2. Display matches in all languages\n",
      "3. Start a new search\n",
      "4. Exit\n"
     ]
    },
    {
     "name": "stdin",
     "output_type": "stream",
     "text": [
      "Enter the number of your choice:  2\n"
     ]
    },
    {
     "name": "stdout",
     "output_type": "stream",
     "text": [
      "\n",
      "Matching Words in All Languages:\n",
      "Limite de una funcion (es)\n",
      "Limite de una sucesion (es)\n",
      "Limite (es)\n",
      "Limite superior y limite inferior (es)\n",
      "Select a search option:\n",
      "1. Search in a specific language\n",
      "2. Display matches in all languages\n",
      "3. Start a new search\n",
      "4. Exit\n"
     ]
    },
    {
     "name": "stdin",
     "output_type": "stream",
     "text": [
      "Enter the number of your choice:  límite\n"
     ]
    },
    {
     "name": "stdout",
     "output_type": "stream",
     "text": [
      "Invalid choice. Please select a valid search option.\n",
      "Select a search option:\n",
      "1. Search in a specific language\n",
      "2. Display matches in all languages\n",
      "3. Start a new search\n",
      "4. Exit\n"
     ]
    },
    {
     "name": "stdin",
     "output_type": "stream",
     "text": [
      "Enter the number of your choice:  3\n"
     ]
    },
    {
     "name": "stdout",
     "output_type": "stream",
     "text": [
      "Starting a new search...\n"
     ]
    },
    {
     "name": "stdin",
     "output_type": "stream",
     "text": [
      "Enter a new search string:  límite\n"
     ]
    },
    {
     "name": "stdout",
     "output_type": "stream",
     "text": [
      "Select a search option:\n",
      "1. Search in a specific language\n",
      "2. Display matches in all languages\n",
      "3. Start a new search\n",
      "4. Exit\n"
     ]
    },
    {
     "name": "stdin",
     "output_type": "stream",
     "text": [
      "Enter the number of your choice:  2\n"
     ]
    },
    {
     "name": "stdout",
     "output_type": "stream",
     "text": [
      "\n",
      "Matching Words in All Languages:\n",
      "Limite de una funcion (es)\n",
      "Limite de una sucesion (es)\n",
      "Limite (es)\n",
      "Limite superior y limite inferior (es)\n",
      "Select a search option:\n",
      "1. Search in a specific language\n",
      "2. Display matches in all languages\n",
      "3. Start a new search\n",
      "4. Exit\n"
     ]
    },
    {
     "name": "stdin",
     "output_type": "stream",
     "text": [
      "Enter the number of your choice:  3\n"
     ]
    },
    {
     "name": "stdout",
     "output_type": "stream",
     "text": [
      "Starting a new search...\n"
     ]
    },
    {
     "name": "stdin",
     "output_type": "stream",
     "text": [
      "Enter a new search string:  lim\n"
     ]
    },
    {
     "name": "stdout",
     "output_type": "stream",
     "text": [
      "Select a search option:\n",
      "1. Search in a specific language\n",
      "2. Display matches in all languages\n",
      "3. Start a new search\n",
      "4. Exit\n"
     ]
    },
    {
     "name": "stdin",
     "output_type": "stream",
     "text": [
      "Enter the number of your choice:  2\n"
     ]
    },
    {
     "name": "stdout",
     "output_type": "stream",
     "text": [
      "\n",
      "Matching Words in All Languages:\n",
      "Limite de una funcion (es)\n",
      "Limite de una sucesion (es)\n",
      "Limite (es)\n",
      "Limite superior y limite inferior (es)\n",
      "Limit of a function (en)\n",
      "Limit of a sequence (en)\n",
      "Limit (en)\n",
      "Upper limit and lower limit (en)\n",
      "Select a search option:\n",
      "1. Search in a specific language\n",
      "2. Display matches in all languages\n",
      "3. Start a new search\n",
      "4. Exit\n"
     ]
    }
   ],
   "source": [
    "#### import pandas as pd\n",
    "from unidecode import unidecode\n",
    "import webbrowser\n",
    "import pandas as pd\n",
    "import numpy as np\n",
    "import urllib.parse\n",
    "\n",
    "def remove_accents(input_str):\n",
    "    return unidecode(input_str)\n",
    "\n",
    "def search_and_display(csv_file, search_string):\n",
    "    try:\n",
    "        # Read data from the CSV file\n",
    "        df = pd.read_csv(csv_file)\n",
    "        for col in df.columns:\n",
    "            df[col] = df[col].apply(remove_accents)\n",
    "\n",
    "        while True:\n",
    "            print(\"Select a search option:\")\n",
    "            print(\"1. Search in a specific language\")\n",
    "            print(\"2. Display matches in all languages\")\n",
    "            print(\"3. Start a new search\")\n",
    "            print(\"4. Exit\")\n",
    "\n",
    "            choice = input(\"Enter the number of your choice: \")\n",
    "\n",
    "            if choice == '1':\n",
    "                # Search in a specific language\n",
    "                languages = df.columns.tolist()\n",
    "                while True:\n",
    "                    print(\"Select a language:\")\n",
    "                    for i, lang in enumerate(languages, 1):\n",
    "                        print(f\"{i}. {lang}\")\n",
    "\n",
    "                    lang_choice = input(\"Enter the number of your choice: \")\n",
    "\n",
    "                    if not lang_choice.isdigit() or int(lang_choice) < 1 or int(lang_choice) > len(languages):\n",
    "                        print(\"Invalid choice. Please select a valid language.\")\n",
    "                    else:\n",
    "                        language = languages[int(lang_choice) - 1]\n",
    "                        break\n",
    "\n",
    "                # Remove accents from the search string\n",
    "                search_string = remove_accents(search_string)\n",
    "\n",
    "                # Remove accents from the data in the selected column\n",
    "                df[language] = df[language].apply(remove_accents)\n",
    "\n",
    "                # Perform the partial string match search\n",
    "                result = df[df[language].str.contains(search_string, case=False, na=False)]\n",
    "\n",
    "                if result.empty:\n",
    "                    print(\"No matching rows found.\")\n",
    "                else:\n",
    "                    print(\"Choose an option:\")\n",
    "                    options = result[language].tolist()\n",
    "                    for i, option in enumerate(options, 1):\n",
    "                        print(f\"{i}. {option}\")\n",
    "\n",
    "                    choice = input(\"Enter the number of your choice: \")\n",
    "\n",
    "                    if not choice.isdigit() or int(choice) < 1 or int(choice) > len(options):\n",
    "                        print(\"Invalid choice.\")\n",
    "                    else:\n",
    "                        choice = int(choice)\n",
    "                        chosen_option = result.iloc[choice - 1]\n",
    "                        print(\"\\nChosen Option:\")\n",
    "                        print(f\"{chosen_option[language]}\\n\")\n",
    "                        for col in df.columns:\n",
    "                            if col != language:\n",
    "                                print(f\"{col}: {chosen_option[col]}\")\n",
    "\n",
    "                        # Offer options for online searches\n",
    "                        search_choice = input(\"Do you want to perform an online search? (yes/no): \").strip().lower()\n",
    "                        if search_choice == 'yes':\n",
    "                            google_search_choice = input(\"What would you like to search for online?\\n\"\n",
    "                                                         \"1. Selected word\\n\"\n",
    "                                                         \"2. Translations\\n\"\n",
    "                                                         \"3. Neither (Continue with the program)\\n\"\n",
    "                                                         \"Enter the number of your choice: \").strip().lower()\n",
    "                            if google_search_choice == '1':\n",
    "                                if 'de' in language:\n",
    "                                    webbrowser.open(f\"https://www.google.de/search?q={chosen_option[language]}\")\n",
    "                                else:\n",
    "                                    webbrowser.open(f\"https://www.google.com/search?q={chosen_option[language]}\")\n",
    "                            elif google_search_choice == '2':\n",
    "                                for col in df.columns:\n",
    "                                    if col != language:\n",
    "                                        print(f\"Searching for translation in {col}: {chosen_option[col]}\")\n",
    "                                        if 'de' in col:\n",
    "                                            webbrowser.open(f\"https://www.google.de/search?q={chosen_option[col]}\")\n",
    "                                        else:\n",
    "                                            webbrowser.open(f\"https://www.google.com/search?q={chosen_option[col]}\")\n",
    "                            elif google_search_choice == '3':\n",
    "                                pass  # Continue with the program\n",
    "                            else:\n",
    "                                print(\"Invalid choice. Continuing with the program.\")\n",
    "\n",
    "            elif choice == '2':\n",
    "                # Display matches in all languages\n",
    "                search_string = remove_accents(search_string)\n",
    "                matching_words = []\n",
    "                matching_languages = {}\n",
    "\n",
    "                for col in df.columns:\n",
    "                    col_matches = df[col][df[col].str.contains(search_string, case=False, na=False)].tolist()\n",
    "                    if col_matches:\n",
    "                        matching_words.extend(col_matches)\n",
    "                        matching_languages[col] = col_matches\n",
    "\n",
    "                if not matching_words:\n",
    "                    print(\"No matching words found in any language.\")\n",
    "                else:\n",
    "                    print(\"\\nMatching Words in All Languages:\")\n",
    "                    for word in matching_words:\n",
    "                        matching_languages_str = \", \".join(\n",
    "                            [col for col, translations in matching_languages.items() if word in translations])\n",
    "                        print(f\"{word} ({matching_languages_str})\")\n",
    "\n",
    "            elif choice == '3':\n",
    "                print(\"Starting a new search...\")\n",
    "                search_string = input(\"Enter a new search string: \")\n",
    "                search_string = remove_accents(search_string)\n",
    "                continue  # Start a new search\n",
    "\n",
    "            elif choice == '4':\n",
    "                print(\"Exiting...\")\n",
    "                break\n",
    "\n",
    "            else:\n",
    "                print(\"Invalid choice. Please select a valid search option.\")\n",
    "\n",
    "    except Exception as e:\n",
    "        return f\"An error occurred: {str(e)}\"\n",
    "\n",
    "if __name__ == \"__main__\":\n",
    "    csv_file = 'dictionary_data.csv'\n",
    "    search_string = input(\"Enter search string: \")\n",
    "    search_string = remove_accents(search_string)\n",
    "    search_and_display(csv_file, search_string)\n"
   ]
  }
 ],
 "metadata": {
  "kernelspec": {
   "display_name": "Python 3 (ipykernel)",
   "language": "python",
   "name": "python3"
  },
  "language_info": {
   "codemirror_mode": {
    "name": "ipython",
    "version": 3
   },
   "file_extension": ".py",
   "mimetype": "text/x-python",
   "name": "python",
   "nbconvert_exporter": "python",
   "pygments_lexer": "ipython3",
   "version": "3.9.17"
  }
 },
 "nbformat": 4,
 "nbformat_minor": 5
}
