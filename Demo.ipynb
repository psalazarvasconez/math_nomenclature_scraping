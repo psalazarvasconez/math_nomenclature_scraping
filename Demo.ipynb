{
 "cells": [
  {
   "cell_type": "code",
   "execution_count": null,
   "id": "941f04aa-2ba7-40f0-8517-f2f2fedb5bee",
   "metadata": {
    "tags": []
   },
   "outputs": [
    {
     "name": "stdin",
     "output_type": "stream",
     "text": [
      "Enter search string:  lim\n"
     ]
    },
    {
     "name": "stdout",
     "output_type": "stream",
     "text": [
      "Select a search option:\n",
      "1. Search in a specific language\n",
      "2. Display matches in all languages\n",
      "3. Start a new search\n",
      "4. Exit\n"
     ]
    },
    {
     "name": "stdin",
     "output_type": "stream",
     "text": [
      "Enter the number of your choice:  2\n"
     ]
    },
    {
     "name": "stdout",
     "output_type": "stream",
     "text": [
      "\n",
      "Matching Words in All Languages:\n",
      "Limite de una funcion (es)\n",
      "Limite de una sucesion (es)\n",
      "Limite (es)\n",
      "Limite superior y limite inferior (es)\n",
      "Limit of a function (en)\n",
      "Limit of a sequence (en)\n",
      "Limit (en)\n",
      "Upper limit and lower limit (en)\n",
      "Select a search option:\n",
      "1. Search in a specific language\n",
      "2. Display matches in all languages\n",
      "3. Start a new search\n",
      "4. Exit\n"
     ]
    },
    {
     "name": "stdin",
     "output_type": "stream",
     "text": [
      "Enter the number of your choice:  1\n"
     ]
    },
    {
     "name": "stdout",
     "output_type": "stream",
     "text": [
      "Select a language:\n",
      "1. es\n",
      "2. de\n",
      "3. en\n"
     ]
    },
    {
     "name": "stdin",
     "output_type": "stream",
     "text": [
      "Enter the number of your choice:  1\n"
     ]
    },
    {
     "name": "stdout",
     "output_type": "stream",
     "text": [
      "Choose an option:\n",
      "1. Limite de una funcion\n",
      "2. Limite de una sucesion\n",
      "3. Limite\n",
      "4. Limite superior y limite inferior\n"
     ]
    },
    {
     "name": "stdin",
     "output_type": "stream",
     "text": [
      "Enter the number of your choice:  3\n"
     ]
    },
    {
     "name": "stdout",
     "output_type": "stream",
     "text": [
      "\n",
      "Chosen Option:\n",
      "Limite\n",
      "\n",
      "de: Grenzwert\n",
      "en: Limit\n"
     ]
    },
    {
     "name": "stdin",
     "output_type": "stream",
     "text": [
      "Do you want to perform an online search? (yes/no):  yes\n",
      "What would you like to search for online?\n",
      "1. Selected word\n",
      "2. Translations\n",
      "3. Neither (Continue with the program)\n",
      "Enter the number of your choice:  2\n"
     ]
    },
    {
     "name": "stdout",
     "output_type": "stream",
     "text": [
      "Searching for translation in de: Grenzwert\n",
      "Searching for translation in en: Limit\n",
      "Select a search option:\n",
      "1. Search in a specific language\n",
      "2. Display matches in all languages\n",
      "3. Start a new search\n",
      "4. Exit\n"
     ]
    }
   ],
   "source": [
    "%run Trilingual_Math_Dictionary.ipynb\n",
    "\n"
   ]
  },
  {
   "cell_type": "code",
   "execution_count": null,
   "id": "6ae59d5e-6f36-4b7b-9758-298482dafce0",
   "metadata": {},
   "outputs": [],
   "source": [
    "4\n"
   ]
  }
 ],
 "metadata": {
  "kernelspec": {
   "display_name": "Python 3 (ipykernel)",
   "language": "python",
   "name": "python3"
  },
  "language_info": {
   "codemirror_mode": {
    "name": "ipython",
    "version": 3
   },
   "file_extension": ".py",
   "mimetype": "text/x-python",
   "name": "python",
   "nbconvert_exporter": "python",
   "pygments_lexer": "ipython3",
   "version": "3.9.17"
  }
 },
 "nbformat": 4,
 "nbformat_minor": 5
}
